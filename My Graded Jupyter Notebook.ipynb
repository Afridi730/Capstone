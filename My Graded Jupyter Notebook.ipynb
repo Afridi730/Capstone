{
    "cells": [
        {
            "cell_type": "markdown",
            "metadata": {
                "collapsed": true
            },
            "source": "# My Jupyter Notebook on Watson Studio"
        },
        {
            "cell_type": "markdown",
            "metadata": {},
            "source": "**Liaquat Ali Afridi**\n\nCustomer Service Agent\n"
        },
        {
            "cell_type": "markdown",
            "metadata": {},
            "source": "*I am interested in Data Science because I am curious to study and know the trends of human behavior and the environment based on the Data acquired*"
        },
        {
            "cell_type": "markdown",
            "metadata": {},
            "source": "###  My code in the next cell is about the adding up  of two variables with values assigned"
        },
        {
            "cell_type": "code",
            "execution_count": 1,
            "metadata": {},
            "outputs": [
                {
                    "name": "stdout",
                    "output_type": "stream",
                    "text": "sum of 3 and 7 is 10\n"
                }
            ],
            "source": "x=3\ny=7\nprint(\"sum of\",x ,\"and\",y,\"is\",x+y,)"
        },
        {
            "cell_type": "markdown",
            "metadata": {},
            "source": "\n\n\nHorizontal Rule\n\n\n---                                                   \nHyphen\n***                                                                                                   \nAstericks\n______\nUnderscore\n\nLists\n1. First ordered item\n2. Another item\n3. Another item \n4. Another item\n* One\n* two\n* three\n* four\n- One\n- Two\n- Three\n- Four\n\n\nhyperlink\n\nhttps://www.coursera.org"
        },
        {
            "cell_type": "code",
            "execution_count": null,
            "metadata": {},
            "outputs": [],
            "source": ""
        }
    ],
    "metadata": {
        "kernelspec": {
            "display_name": "Python 3.8",
            "language": "python",
            "name": "python3"
        },
        "language_info": {
            "codemirror_mode": {
                "name": "ipython",
                "version": 3
            },
            "file_extension": ".py",
            "mimetype": "text/x-python",
            "name": "python",
            "nbconvert_exporter": "python",
            "pygments_lexer": "ipython3",
            "version": "3.8.11"
        }
    },
    "nbformat": 4,
    "nbformat_minor": 1
}